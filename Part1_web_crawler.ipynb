{
 "cells": [
  {
   "cell_type": "markdown",
   "id": "13cb4055-df7b-4cf0-b053-1fd9b91280eb",
   "metadata": {},
   "source": [
    "**IMPORTING RELEVANT INITIAL LIBRARIES**"
   ]
  },
  {
   "cell_type": "code",
   "execution_count": 1,
   "id": "05525b75-b32b-4a79-89d9-dbfd537c0955",
   "metadata": {},
   "outputs": [],
   "source": [
    "import requests\n",
    "from bs4 import BeautifulSoup\n",
    "from nltk.tokenize import word_tokenize\n",
    "from nltk.corpus import words"
   ]
  },
  {
   "cell_type": "code",
   "execution_count": 2,
   "id": "b9b64623-0dcb-4473-92a7-243a9d220c0a",
   "metadata": {},
   "outputs": [
    {
     "name": "stderr",
     "output_type": "stream",
     "text": [
      "[nltk_data] Downloading package words to\n",
      "[nltk_data]     /Users/nishandhillon/nltk_data...\n",
      "[nltk_data]   Package words is already up-to-date!\n"
     ]
    },
    {
     "data": {
      "text/plain": [
       "True"
      ]
     },
     "execution_count": 2,
     "metadata": {},
     "output_type": "execute_result"
    }
   ],
   "source": [
    "import nltk\n",
    "# Download the 'words' dataset from NLTK\n",
    "nltk.download('words')"
   ]
  },
  {
   "cell_type": "markdown",
   "id": "75fffd45-87e2-4bbf-88a6-1a5574c73963",
   "metadata": {},
   "source": [
    "**FUNCTION TO FILTER URLS WITH RELEVANT KEYWORDS**"
   ]
  },
  {
   "cell_type": "code",
   "execution_count": 3,
   "id": "df3a43eb-28d7-4992-84c9-19ffea662f22",
   "metadata": {},
   "outputs": [],
   "source": [
    "import re\n",
    "\n",
    "# Given keywords and compiled patterns\n",
    "keywords = ['empire', 'kingdom']\n",
    "keyword_patterns = [re.compile(keyword, re.IGNORECASE) for keyword in keywords]\n",
    "# Function to check if any keyword matches part of the URL\n",
    "def check_keywords_in_url(url, patterns):\n",
    "    for pattern in patterns:\n",
    "        if pattern.search(url):\n",
    "            return True  # Return True if any keyword matches\n",
    "    return False  # Return False if no keyword matches"
   ]
  },
  {
   "cell_type": "markdown",
   "id": "9daf01e5-8f20-4bd6-88f5-c2d5122cb964",
   "metadata": {},
   "source": [
    "**LIST OF URL'S TO SCRAP THROUGH**"
   ]
  },
  {
   "cell_type": "code",
   "execution_count": 4,
   "id": "8ad182a7-833f-43a6-8751-19254f3fefa9",
   "metadata": {},
   "outputs": [],
   "source": [
    "URLS= ['https://history.howstuffworks.com/world-history/10-long-lived-empires.htm','https://www.worldatlas.com/geography/largest-empires-in-history.html','https://education.nationalgeographic.org/resource/mauryan-empire/', \n",
    "       'https://www.businessinsider.com/the-10-greatest-empires-in-history-2011-9#2-the-mongol-empire-was-the-largest-contiguous-empire-the-world-has-ever-seen-9', 'https://bestdiplomats.org/largest-empires-in-history/']"
   ]
  },
  {
   "cell_type": "markdown",
   "id": "71fc2b9a-7c06-4590-b355-bbbff8806b05",
   "metadata": {},
   "source": [
    "**SCRAPPING THROUGH THE INITIAL URL'S TO GATHERE MORE RELEVANT URL'S**"
   ]
  },
  {
   "cell_type": "code",
   "execution_count": 5,
   "id": "8a26352f-3b7e-48eb-bbf5-b8dac811ebbf",
   "metadata": {},
   "outputs": [],
   "source": [
    "total_links = set()\n",
    "for url in URLS:\n",
    "    page = requests.get(url)\n",
    "    soup = BeautifulSoup(page.text, 'html.parser')\n",
    "    links = soup.find_all('a')\n",
    "    external_urls = [link.get('href') for link in links if link.get('href') and (link.get('href').startswith('http://') or link.get('href').startswith('https://'))]\n",
    "    for external_url in external_urls:\n",
    "        if check_keywords_in_url(external_url, keyword_patterns):\n",
    "            if external_url not in total_links:\n",
    "                total_links.add(external_url)\n",
    "            if len(total_links) > 100:\n",
    "                break"
   ]
  },
  {
   "cell_type": "code",
   "execution_count": 6,
   "id": "98ab5b71-34d7-486f-8d91-2301b134ac32",
   "metadata": {},
   "outputs": [
    {
     "data": {
      "text/plain": [
       "34"
      ]
     },
     "execution_count": 6,
     "metadata": {},
     "output_type": "execute_result"
    }
   ],
   "source": [
    "len(total_links)"
   ]
  },
  {
   "cell_type": "code",
   "execution_count": 7,
   "id": "73d9938b-e608-4cd9-98f5-9c2ca07757c6",
   "metadata": {},
   "outputs": [
    {
     "name": "stdout",
     "output_type": "stream",
     "text": [
      "{'http://en.wikipedia.org/wiki/Mongol_empire', 'https://portugal.com/portugal-blogs/the-portuguese-empire', 'https://insider-app.onelink.me/4cpG/?af_js_web=true&af_ss_ver=2_3_0&af_dp=insider%3A%2F%2Fbi%2Fpost%2Fthe-10-greatest-empires-in-history-2011-9&af_force_deeplink=true&is_retargeting=true&deep_link_value=https%3A%2F%2Fwww.businessinsider.com%2Fthe-10-greatest-empires-in-history-2011-9&pid=businessinsider&c=post_page_share_bar_v2_smart_4.13.23', 'https://www.worldatlas.com/geography/mongol-empire.html', 'http://en.wikipedia.org/wiki/Russian_empire', 'https://bestdiplomats.org/leaders-of-ottoman-empire/', 'https://www.worldatlas.com/geography/russian-empire.html', 'https://www.worldatlas.com/maps/united-kingdom', 'https://www.newworldencyclopedia.org/entry/Kanem-Bornu_Kingdom', 'https://www.worldatlas.com/history/the-fall-of-the-russian-empire.html', 'http://www.bbc.co.uk/religion/religions/islam/history/ottomanempire_1.shtml', 'https://history.howstuffworks.com/world-history/ottoman-empire.htm', 'http://www.britannica.com/EBchecked/topic/102315/history-of-Central-Asia/73543/Creation-of-the-Mongol-empire', 'https://www.worldatlas.com/articles/genghis-khan-of-the-mongol-empire-world-leaders-in-history.html', 'https://www.worldhistory.org/Khmer_Empire/', 'https://historyradio.org/2018/01/05/zhou-daguan-and-his-12th-century-journey-to-an-empire-lost-in-time/', 'http://en.wikipedia.org/wiki/British_empire', 'http://en.wikipedia.org/wiki/Portuguese_empire', 'https://www.worldatlas.com/geography/10-most-long-lived-empires-in-history.html', 'https://www.worldhistory.org/empire/', 'https://ehistory.osu.edu/articles/ottoman-empire', 'https://www.worldatlas.com/articles/what-does-the-sun-never-sets-on-the-british-empire-mean.html', 'https://www.worldhistory.org/Kingdom_of_Kanem/', 'http://en.wikipedia.org/wiki/List_of_largest_empires', 'https://www.newworldencyclopedia.org/entry/Holy_Roman_Empire', 'https://www.worldatlas.com/geography/british-empire.html', 'https://teams.microsoft.com/share?href=https://education.nationalgeographic.org/resource/mauryan-empire/', 'https://www.worldhistory.org/Roman_Empire/', 'https://classroom.google.com/share?url=https://education.nationalgeographic.org/resource/mauryan-empire/', 'https://www.newworldencyclopedia.org/entry/Ethiopian_Empire', 'https://www.worldatlas.com/geography/second-french-colonial-empire.html', 'https://bestdiplomats.org/largest-empires-in-history/#respond', 'https://bestdiplomats.org/why-roman-empire-fell/', 'https://bestdiplomats.org/tag/largest-empires-in-history/'}\n"
     ]
    }
   ],
   "source": [
    "print(total_links)"
   ]
  },
  {
   "cell_type": "markdown",
   "id": "5c3686a0-5462-4824-a9e1-51296d844b80",
   "metadata": {},
   "source": [
    "**SCRAPPING TEXT OFF EACH PAGE AND WRITING IT TO TEXT FILE**"
   ]
  },
  {
   "cell_type": "code",
   "execution_count": 8,
   "id": "503ee3a5-8183-4747-adf0-f61f0e5c2be2",
   "metadata": {},
   "outputs": [],
   "source": [
    "i = 1\n",
    "for link in total_links:\n",
    "    page = requests.get(link)\n",
    "    soup = BeautifulSoup(page.content, 'html.parser')\n",
    "    text = soup.get_text()\n",
    "    filename = 'file' + str(i) + '.txt'\n",
    "    f = open(filename, 'w')\n",
    "    f.write(text)\n",
    "    f.close()\n",
    "    i += 1"
   ]
  },
  {
   "cell_type": "markdown",
   "id": "579de81f-4447-44e7-94ff-2d60c69107d4",
   "metadata": {},
   "source": [
    "**CLEANING UP THE FILES AND SAVING THE CLEANED UP TEXT TO AN OUTPUT FILE**"
   ]
  },
  {
   "cell_type": "code",
   "execution_count": 9,
   "id": "473f8b63-fc99-47f5-9cd8-4b950a76bced",
   "metadata": {},
   "outputs": [],
   "source": [
    "import re\n",
    "from nltk.corpus import stopwords\n",
    "from nltk.stem import PorterStemmer\n",
    "from nltk.stem import WordNetLemmatizer\n",
    "from nltk.tokenize import sent_tokenize\n",
    "\n",
    "stop_words = set(stopwords.words('english'))\n",
    "stemmer = PorterStemmer()\n",
    "lemmatizer = WordNetLemmatizer()\n",
    "\n",
    "# Load set of English words\n",
    "english_words = set(words.words())\n",
    "\n",
    "# CLEANING UP THE RAW FILES AND SAVING THEM AS OUTPUT FILES\n",
    "for i in range(1, len(total_links) + 1):\n",
    "    filename = 'file' + str(i) + '.txt'\n",
    "    output_filename = 'output' + str(i) + '.txt'\n",
    "    f_output = open(output_filename, 'w')\n",
    "    with open(filename,'r') as f:\n",
    "        lines = f.read().splitlines()\n",
    "    for line in lines:\n",
    "        # line = re.sub(r'[.?!,:;()\\-\\n\\d]',' ', line.lower())\n",
    "        tokens = word_tokenize(line)\n",
    "        # Removing stopwords and stemming\n",
    "        cleaned_tokens = [lemmatizer.lemmatize(word) for word in tokens if word not in stop_words]\n",
    "        # removing words which are not in english\n",
    "        filtered_tokens = ' '.join([word for word in cleaned_tokens if word.lower() in english_words])\n",
    "        sentences = sent_tokenize(filtered_tokens)\n",
    "        for sentence in sentences:\n",
    "            f_output.write(sentence + '\\n')\n",
    "    f_output.close()"
   ]
  },
  {
   "cell_type": "markdown",
   "id": "7e3d8be4-8333-49af-925e-12c33852eb5a",
   "metadata": {},
   "source": [
    "**CREATING A CORPUS FROM CLEANED UP OUTPUT FILES**"
   ]
  },
  {
   "cell_type": "code",
   "execution_count": 10,
   "id": "8bbbe709-881a-47a1-940d-d170166017ed",
   "metadata": {},
   "outputs": [],
   "source": [
    "corpus = []"
   ]
  },
  {
   "cell_type": "code",
   "execution_count": 11,
   "id": "7fe3d6cb-5ba6-4c9e-b940-a38c0062db9f",
   "metadata": {},
   "outputs": [],
   "source": [
    "# CREATING CORPUS FROM THE CLEANED UP FILES\n",
    "corpus = []\n",
    "import re\n",
    "for i in range(1, 35):\n",
    "    filename = 'output' + str(i) + '.txt'\n",
    "    words_to_remove = ['\\t', 'th']\n",
    "    with open(filename, 'r') as f:\n",
    "        content = f.read().lower()\n",
    "        pattern = '[^\\w\\s]'\n",
    "        content = re.sub(pattern, '', content)\n",
    "        for word in words_to_remove:\n",
    "            content = content.replace(word, '')\n",
    "        corpus.append(content)\n",
    "        "
   ]
  },
  {
   "cell_type": "markdown",
   "id": "7d9fb636-2b1e-4062-970a-9c5ae5628c76",
   "metadata": {},
   "source": [
    "**CREATNG KNOWLEDGE BASE AFTER APPLYING TF-IDF AND OTHER TECHNIQUES**"
   ]
  },
  {
   "cell_type": "code",
   "execution_count": 12,
   "id": "ff561253-661b-463f-a720-efcf76a5d1d4",
   "metadata": {},
   "outputs": [
    {
     "name": "stdout",
     "output_type": "stream",
     "text": [
      "['empire', 'history', 'war', 'century', 'kingdom', 'dynasty', 'colony', 'advertisement', 'territory', 'king', 'power', 'emperor', 'military', 'trade', 'policy', 'press', 'rule', 'geography', 'original', 'political', 'imperial', 'government', 'sultan', 'second', 'sea', 'west', 'control', 'end', 'city', 'home', 'country', 'science', 'reign', 'search', 'independence', 'contact', 'central', 'cultural', 'march', 'sign']\n"
     ]
    }
   ],
   "source": [
    "from sklearn.feature_extraction.text import TfidfVectorizer\n",
    "import numpy as np\n",
    "\n",
    "\n",
    "\n",
    "# Words to remove from the final list\n",
    "words_to_remove = ['new', 'people', 'share', 'united', 'university', 'ce', 'island', 'world', 'state', 'khan', 'time', 'russia', 'colonial', 'great', 'year'\n",
    "                  , 'china','known','area', 'million', 'led', 'east', 'land', 'western', 'encyclopedia', 'day', 'term', 'enable', 'early', \n",
    "                  'moment', 'york', 'article', 'cooky', 'khanate', 'dea', 'son', 'sou', 'tsar', 'established']\n",
    "\n",
    "# Initialize TF-IDF Vectorizer\n",
    "vectorizer = TfidfVectorizer(stop_words='english')\n",
    "\n",
    "# Fit and transform the corpus\n",
    "X = vectorizer.fit_transform(corpus)\n",
    "\n",
    "# Sum TF-IDF scores for each term across all documents\n",
    "sum_tfidf = np.array(X.sum(axis=0)).flatten()\n",
    "\n",
    "# Get the feature names (words/terms)\n",
    "words = np.array(vectorizer.get_feature_names())\n",
    "\n",
    "# Sort the scores\n",
    "sorted_indices = np.argsort(sum_tfidf)[::-1]\n",
    "\n",
    "# Initialize an empty list to hold the top words excluding those to be removed\n",
    "filtered_top_words = []\n",
    "\n",
    "# Iterate over sorted indices and add words to the filtered list if they are not in the words_to_remove list\n",
    "for index in sorted_indices:\n",
    "    if words[index] not in words_to_remove:\n",
    "        filtered_top_words.append(words[index])\n",
    "    # Stop once we have the top 25 words after filtering\n",
    "    if len(filtered_top_words) == 40:\n",
    "        break\n",
    "\n",
    "# Display the filtered top 25 words\n",
    "print(filtered_top_words)"
   ]
  },
  {
   "cell_type": "markdown",
   "id": "4e910df6-45ee-484e-8077-3778d589a271",
   "metadata": {},
   "source": [
    "**BASED ON THE TOP 25 WORDS AND PRIOR KNOLEDGE BASE, CREATING KNOWLEDGE BASE**"
   ]
  },
  {
   "cell_type": "code",
   "execution_count": 13,
   "id": "73961e1f-8ca6-4592-b479-912e4cf62bfd",
   "metadata": {},
   "outputs": [],
   "source": [
    "\n",
    "knowledge_base = [\n",
    "    'Empire: A sovereign state comprising multiple territories and peoples, ruled by a single supreme authority, often an emperor.\\n',\n",
    "    'History: The study of past events, particularly significant political, cultural, and social movements that have shaped societies.\\n',\n",
    "    'Century: A period of 100 years, often used as a milestone to delineate historical epochs.\\n',\n",
    "    'War: A state of armed conflict between different nations or states or different groups within a nation or state.\\n',\n",
    "    'Colony: A territory under the immediate political control of a state, distinct from the sovereign state, yet still under its dominion.\\n',\n",
    "    'Emperor: The ruler of an empire, commanding vast territories and diverse peoples, often hereditary.\\n',\n",
    "    'Dynasty: A line of hereditary rulers of an empire or kingdom, often characterized by a common surname or royal house.\\n',\n",
    "    'Trade: The exchange of goods and services, crucial for the economic prosperity and interaction of empires with foreign powers.\\n',\n",
    "    'Military: The armed forces of an empire, instrumental in defense, conquest, and maintenance of order within and beyond its borders.\\n',\n",
    "    'Government: The system by which a state or community is governed, often centralized in empires to administer vast territories.\\n',\n",
    "    'Cultural: Pertaining to the arts, customs, traditions, and achievements of a society, enriched and spread by empires.\\n',\n",
    "    'City: A large and significant settlement, often serving as administrative, economic, and cultural hubs in empires.\\n',\n",
    "    'Imperial: Relating to an empire or emperor, denoting authority, or governance over extensive territories.\\n',\n",
    "    'Independence: The condition of a nation, country, or state which exercises self-government, and sovereignty, often achieved through struggle against colonial or imperial rule.\\n',\n",
    "    'Sultan: A title used in Muslim countries for a ruler or nobleman, often denoting sovereign authority similar to an emperor or king.\\n'\n",
    "]"
   ]
  },
  {
   "cell_type": "markdown",
   "id": "44f3818d-2711-4c91-8f1b-329c133cd478",
   "metadata": {},
   "source": [
    "**PICKLING KNOWLEDGE BASE**"
   ]
  },
  {
   "cell_type": "code",
   "execution_count": 14,
   "id": "08a6b896-7268-49f8-965c-0c16d67cfa6d",
   "metadata": {},
   "outputs": [],
   "source": [
    "import pickle \n",
    "pickle.dump(knowledge_base, open('kb.p', 'wb'))"
   ]
  }
 ],
 "metadata": {
  "kernelspec": {
   "display_name": "Python 3 (ipykernel)",
   "language": "python",
   "name": "python3"
  },
  "language_info": {
   "codemirror_mode": {
    "name": "ipython",
    "version": 3
   },
   "file_extension": ".py",
   "mimetype": "text/x-python",
   "name": "python",
   "nbconvert_exporter": "python",
   "pygments_lexer": "ipython3",
   "version": "3.9.7"
  }
 },
 "nbformat": 4,
 "nbformat_minor": 5
}
